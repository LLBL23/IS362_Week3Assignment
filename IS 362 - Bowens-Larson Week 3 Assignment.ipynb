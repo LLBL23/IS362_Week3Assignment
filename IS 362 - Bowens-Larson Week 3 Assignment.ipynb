{
  "metadata": {
    "kernelspec": {
      "name": "python",
      "display_name": "Python (Pyodide)",
      "language": "python"
    },
    "language_info": {
      "codemirror_mode": {
        "name": "python",
        "version": 3
      },
      "file_extension": ".py",
      "mimetype": "text/x-python",
      "name": "python",
      "nbconvert_exporter": "python",
      "pygments_lexer": "ipython3",
      "version": "3.8"
    }
  },
  "nbformat_minor": 5,
  "nbformat": 4,
  "cells": [
    {
      "id": "9bbb75c9-1687-4fe9-87fc-1191d382654c",
      "cell_type": "markdown",
      "source": "# IS 362 Week 3 Assignment\n\n## Cumulative Miles Per Day\n\nWhile on a bike ride from New York City, New York to Key West, Florida the daily cumulative miles traveled were logged. A pandas Series object was created to store the information logged. \n\n",
      "metadata": {}
    },
    {
      "id": "aa9c6e4b-da3c-4acf-abc7-f82ae4adba7e",
      "cell_type": "code",
      "source": "import pandas as pd\nimport numpy as np\n\n# create a pandas Series of daily cumulative miles of biking from New York City, New York to Key West, Florida\n# using a dictionary so that the dictionary keys are used as the index labels for the series\ns1 = pd.Series({1 : 55, 2 : 120, 3 : 180, 4 : 250, 5 : 313, 6 : 371, 7 : 436, 8 : 491, 9 : 556, 10 : 621, 11 : 686, 12 : 751, 13 : 816, 14 : 881, 15 : 946, 16 : 1011, 17 : 1081, 18 : 1151, 19 : 1221, 20 : 1291, 21 : 1361, 22 : 1431, 23 : 1506, 24 : 1581, 25 : 1661})\n\n# print entire pandas Series\nprint(s1)\n",
      "metadata": {
        "trusted": true
      },
      "outputs": [
        {
          "name": "stdout",
          "output_type": "stream",
          "text": "1       55\n2      120\n3      180\n4      250\n5      313\n6      371\n7      436\n8      491\n9      556\n10     621\n11     686\n12     751\n13     816\n14     881\n15     946\n16    1011\n17    1081\n18    1151\n19    1221\n20    1291\n21    1361\n22    1431\n23    1506\n24    1581\n25    1661\ndtype: int64\n"
        }
      ],
      "execution_count": 2
    },
    {
      "id": "44b017d2-79a0-4c96-be97-244b86b2fae4",
      "cell_type": "markdown",
      "source": "## Total Miles Per Day\nNext, to show the total miles traveled each day the pandas series was looped through and the cumulative value for each day was subtracted from the previous day's value to get the daily total of miles traveled. Then these values were stored in a list. ",
      "metadata": {}
    },
    {
      "id": "082d3cc0-422d-472b-9f73-342e18826b31",
      "cell_type": "code",
      "source": "count = 0\nlast_num = []\nmiles_per_day = []\n\n# loop to show miles ridden each day\nfor n in s1: \n    last_num.append(n)\n    # skip first value in series\n    if n == s1[1]:\n        # add value for first day to miles_per_day list\n        miles_per_day.append(n)\n        continue\n    # count loop to use as index for last_num list\n    count += 1\n    # subtract 1 to index the last number in the last_num list\n    last_num_index = count -1\n    # index last number in the last_num list and subtract the value from n to get miles ridden for current day\n    miles_per_day.append(n - last_num[last_num_index])\nprint(\"miles_per_day list:\", miles_per_day)",
      "metadata": {
        "trusted": true
      },
      "outputs": [
        {
          "name": "stdout",
          "output_type": "stream",
          "text": "miles_per_day list: [55, 65, 60, 70, 63, 58, 65, 55, 65, 65, 65, 65, 65, 65, 65, 65, 70, 70, 70, 70, 70, 70, 75, 75, 80]\n"
        }
      ],
      "execution_count": 7
    },
    {
      "id": "214e8277-c012-41b3-bf8b-202d74b72009",
      "cell_type": "markdown",
      "source": "## Displaying the information in a pandas DataFrame\nThen a pandas DataFrame was created with an index column, a \"Day\" column, and a \"Miles Traveled\" cloumn to display the information. ",
      "metadata": {}
    },
    {
      "id": "188bed26-83a9-46a9-8b50-1be2d63f7d2b",
      "cell_type": "code",
      "source": "# convert miles_per_day from a list to a dictionary\nmiles_per_day_dict = {x + 1: miles_per_day[x] for x in range(len(miles_per_day))}\n#print(miles_per_day_dict)\n\n# create DataFrame with day and miles traveled\ndf = pd.DataFrame(list(miles_per_day_dict.items()), columns = [\"Day\", \"Miles Traveled\"])\nprint(df)",
      "metadata": {
        "trusted": true
      },
      "outputs": [
        {
          "name": "stdout",
          "output_type": "stream",
          "text": "    Day  Miles Traveled\n0     1              55\n1     2              65\n2     3              60\n3     4              70\n4     5              63\n5     6              58\n6     7              65\n7     8              55\n8     9              65\n9    10              65\n10   11              65\n11   12              65\n12   13              65\n13   14              65\n14   15              65\n15   16              65\n16   17              70\n17   18              70\n18   19              70\n19   20              70\n20   21              70\n21   22              70\n22   23              75\n23   24              75\n24   25              80\n"
        }
      ],
      "execution_count": 9
    }
  ]
}